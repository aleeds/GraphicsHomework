{
 "metadata": {
  "name": "graphics homework-Copy1"
 },
 "nbformat": 3,
 "nbformat_minor": 0,
 "worksheets": [
  {
   "cells": [
    {
     "cell_type": "code",
     "collapsed": false,
     "input": "A = (50,(50,50),(22,22))\nB = (35,(250,100),(-30,30))\nC = (25, (150,325),(0,-35))",
     "language": "python",
     "metadata": {},
     "outputs": [],
     "prompt_number": 1
    },
    {
     "cell_type": "markdown",
     "metadata": {},
     "source": "So I have successfully created the circles $A$, $B$, and $C$"
    },
    {
     "cell_type": "markdown",
     "metadata": {},
     "source": "Now, I want to find the time to collision for two circles, so I should make a function that returns the time. This is easy. However, first I need some vector functions that will make it all easier. \n"
    },
    {
     "cell_type": "code",
     "collapsed": false,
     "input": "def Dot(a,b):\n    (a_1,a_2) = a\n    (b_1,b_2) = b\n    return a_1 * b_1 + a_2 * b_2\n\ndef Subtract(a,b):\n    (a_1,a_2) = a\n    (b_1,b_2) = b\n    return (a_1 - b_1,a_2 - b_2)\n\ndef ScalarMult(sc,a):\n    (x,y) = a\n    return (sc * x,sc * y)\n",
     "language": "python",
     "metadata": {},
     "outputs": [],
     "prompt_number": 2
    },
    {
     "cell_type": "markdown",
     "metadata": {},
     "source": "Now that the helper functions are done, I can find the time to collision. I am going to assume that the user has already checked that they will actually collide. "
    },
    {
     "cell_type": "code",
     "collapsed": false,
     "input": "import math\n\ndef TimeToCollision(circ_one,circ_two):\n    (r_1,pos_1,v_1) = circ_one\n    (r_2,pos_2,v_2) = circ_two;\n    CD = Subtract(pos_1,pos_2)\n    V_cd = Subtract(v_1,v_2)\n    disc = math.sqrt(Dot(ScalarMult(2,V_cd),CD) ** 2 - 4 * Dot(V_cd,V_cd) * (Dot(CD,CD) - (r_1 + r_2) ** 2))\n    denom = 2 * Dot(V_cd,V_cd)\n    t_1 = (-1 * Dot(ScalarMult(2,V_cd),CD) + disc) / denom\n\n    t_2 = (-1 * Dot(ScalarMult(2,V_cd),CD) - disc) / denom\n\n    if (t_2 > 0):\n        return t_2\n    else:\n        return t_1",
     "language": "python",
     "metadata": {},
     "outputs": [],
     "prompt_number": 3
    },
    {
     "cell_type": "markdown",
     "metadata": {},
     "source": "I feel comfortable with the simple if at the end, because I assumed that they actually will collide, and I know $t_1 \\geq t_2$ always. So now I will check all the collisions, and find the time till they collide."
    },
    {
     "cell_type": "code",
     "collapsed": false,
     "input": "t_ab = TimeToCollision(A,B)\nprint(\"t_ab = \" + str(t_ab))\nt_ac = TimeToCollision(A,C)\nprint(\"t_ac = \" + str(t_ac))\nt_bc = TimeToCollision(B,C)\nprint(\"t_bc = \" + str(t_bc))",
     "language": "python",
     "metadata": {},
     "outputs": [
      {
       "output_type": "stream",
       "stream": "stdout",
       "text": "t_ab = 3.0578618015968786\nt_ac = 3.564429381979851\nt_bc = 2.6023288133464493\n"
      }
     ],
     "prompt_number": 4
    },
    {
     "cell_type": "markdown",
     "metadata": {},
     "source": "Looking at these, we see that $t_{bc}$ is the first collision that will occur. This means that the answer to **Which two circles will collide?** is $B$ and $C$. "
    },
    {
     "cell_type": "markdown",
     "metadata": {},
     "source": "Now, we need to find the positions of the circles at the time $t_{bc}$. "
    },
    {
     "cell_type": "code",
     "collapsed": false,
     "input": "def Add(a,b):\n    (x_a,y_a) = a\n    (x_b,y_b) = b\n    return (x_a + x_b,y_a + y_b)\n\nB_t_bc = Add(B[1],ScalarMult(t_bc,B[2]))\nC_t_bc = Add(C[1],ScalarMult(t_bc,C[2]))\nprint(B_t_bc)\nprint(C_t_bc)",
     "language": "python",
     "metadata": {},
     "outputs": []
    },
    {
     "cell_type": "markdown",
     "metadata": {},
     "source": "Now, I am going to check that everything worked out OK, by checking that they are indeed close enough to eachother."
    },
    {
     "cell_type": "code",
     "collapsed": false,
     "input": "diff = Subtract(B_t_bc,C_t_bc)\nprint(math.sqrt(Dot(diff,diff)) <= (35 + 25))\nprint(math.sqrt(Dot(diff,diff)))",
     "language": "python",
     "metadata": {},
     "outputs": [
      {
       "output_type": "stream",
       "stream": "stdout",
       "text": "True\n59.999999999999964\n"
      }
     ],
     "prompt_number": 6
    },
    {
     "cell_type": "markdown",
     "metadata": {},
     "source": "So they are indeed close enough together, and they have actually collided after $t_{bc}$ seconds. So the positions are the following variables that are printed out."
    },
    {
     "cell_type": "code",
     "collapsed": false,
     "input": "print(\"The center of the circle B is at \" + str(B_t_bc) + \" at \" + str(t_bc))\nprint(\"The center of the circle C is at \" + str(C_t_bc) + \" at \" + str(t_bc))",
     "language": "python",
     "metadata": {},
     "outputs": [
      {
       "output_type": "stream",
       "stream": "stdout",
       "text": "The center of the circle B is at (171.9301355996065, 178.0698644003935) at 2.6023288133464493\nThe center of the circle C is at (150.0, 233.91849153287427) at 2.6023288133464493\n"
      }
     ],
     "prompt_number": 9
    },
    {
     "cell_type": "markdown",
     "metadata": {},
     "source": "Now I will calculate the direction of the velocities after the collision. This is easy, as I simply need to calculate a few variables, and then use them. "
    },
    {
     "cell_type": "code",
     "collapsed": false,
     "input": "k = ScalarMult(1 / math.sqrt(Dot(B[1],C[1])),Subtract(B[1],C[1]))\nz = Dot(ScalarMult(2,k),Subtract(A[2],B[2]))/(1 / 1 + 1 / 1)\nB_vel = Subtract(B[2],ScalarMult(z / 1, k))\nC_vel = Add(C[2],ScalarMult(z / 1, k))\nprint(\"The new velocity of B is \" + str(B_vel))\nprint(\"The new velocity of C is \" + str(C_vel))",
     "language": "python",
     "metadata": {},
     "outputs": [
      {
       "output_type": "stream",
       "stream": "stdout",
       "text": "The new velocity of B is (-40.0, 52.5)\nThe new velocity of C is (9.999999999999998, -57.5)\n"
      }
     ],
     "prompt_number": 19
    },
    {
     "cell_type": "markdown",
     "metadata": {},
     "source": "And thats all folks. "
    },
    {
     "cell_type": "code",
     "collapsed": false,
     "input": "",
     "language": "python",
     "metadata": {},
     "outputs": []
    }
   ],
   "metadata": {}
  }
 ]
}